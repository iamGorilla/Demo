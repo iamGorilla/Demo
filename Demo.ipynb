{
  "nbformat": 4,
  "nbformat_minor": 0,
  "metadata": {
    "colab": {
      "name": "Demo.ipynb",
      "provenance": [],
      "include_colab_link": true
    },
    "kernelspec": {
      "name": "python3",
      "display_name": "Python 3"
    },
    "language_info": {
      "name": "python"
    }
  },
  "cells": [
    {
      "cell_type": "markdown",
      "metadata": {
        "id": "view-in-github",
        "colab_type": "text"
      },
      "source": [
        "<a href=\"https://colab.research.google.com/github/iamGorilla/Demo/blob/master/Demo.ipynb\" target=\"_parent\"><img src=\"https://colab.research.google.com/assets/colab-badge.svg\" alt=\"Open In Colab\"/></a>"
      ]
    },
    {
      "cell_type": "code",
      "execution_count": null,
      "metadata": {
        "colab": {
          "base_uri": "https://localhost:8080/"
        },
        "id": "eIgTaUItvaCI",
        "outputId": "0bca4340-af10-4502-b329-347047c944fe"
      },
      "outputs": [
        {
          "output_type": "stream",
          "name": "stdout",
          "text": [
            "Hello World from safikhan2000\n"
          ]
        }
      ],
      "source": [
        "print(\"Hello World from safikhan2000\")"
      ]
    },
    {
      "cell_type": "code",
      "source": [
        "print(\"Hello World from iamgorilla\")"
      ],
      "metadata": {
        "id": "mXGoAZ9wx39i",
        "outputId": "39fa1039-38fd-404f-fa58-40c7fd1a31e1",
        "colab": {
          "base_uri": "https://localhost:8080/"
        }
      },
      "execution_count": 1,
      "outputs": [
        {
          "output_type": "stream",
          "name": "stdout",
          "text": [
            "Hello World from iamgorilla\n"
          ]
        }
      ]
    }
  ]
}